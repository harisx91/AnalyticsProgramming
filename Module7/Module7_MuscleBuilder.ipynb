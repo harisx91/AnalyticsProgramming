{
 "cells": [
  {
   "cell_type": "markdown",
   "metadata": {},
   "source": [
    "## Haris Sumra\n",
    "## Housing Violation Dataset\n",
    "## 10/20/2019\n",
    "\n",
    "### In this Project:\n",
    "* Usin pandas to ingest and select some data from my final project dataset\n",
    "* Clean up the data; drop any unnecessary columns along with renaming the columns. \n",
    "* Data was collected from (https://data.cityofnewyork.us/resource/wvxf-dwi5.csv)\n",
    "* Using matplotlib, pandas and seaborn to visualize data, and compare how data could correlate visually "
   ]
  },
  {
   "cell_type": "markdown",
   "metadata": {},
   "source": [
    "### Importing all the libraries that I will be using in this module"
   ]
  },
  {
   "cell_type": "code",
   "execution_count": 185,
   "metadata": {},
   "outputs": [],
   "source": [
    "#Dependencies\n",
    "import pandas as pd\n",
    "import numpy as np\n",
    "import matplotlib.pyplot as plt\n",
    "import seaborn as sns\n",
    "%matplotlib inline"
   ]
  },
  {
   "cell_type": "markdown",
   "metadata": {},
   "source": [
    "### Extracting the data from the website listed below, only using up to 5000 rows for now."
   ]
  },
  {
   "cell_type": "code",
   "execution_count": 186,
   "metadata": {},
   "outputs": [
    {
     "data": {
      "text/plain": [
       "(5000, 40)"
      ]
     },
     "execution_count": 186,
     "metadata": {},
     "output_type": "execute_result"
    }
   ],
   "source": [
    "#Get the data\n",
    "df = pd.read_csv(\"https://data.cityofnewyork.us/resource/wvxf-dwi5.csv?$limit=5000\")\n",
    "df.shape"
   ]
  },
  {
   "cell_type": "code",
   "execution_count": 169,
   "metadata": {},
   "outputs": [
    {
     "data": {
      "text/html": [
       "<div>\n",
       "<style scoped>\n",
       "    .dataframe tbody tr th:only-of-type {\n",
       "        vertical-align: middle;\n",
       "    }\n",
       "\n",
       "    .dataframe tbody tr th {\n",
       "        vertical-align: top;\n",
       "    }\n",
       "\n",
       "    .dataframe thead th {\n",
       "        text-align: right;\n",
       "    }\n",
       "</style>\n",
       "<table border=\"1\" class=\"dataframe\">\n",
       "  <thead>\n",
       "    <tr style=\"text-align: right;\">\n",
       "      <th></th>\n",
       "      <th>violationid</th>\n",
       "      <th>buildingid</th>\n",
       "      <th>registrationid</th>\n",
       "      <th>boroid</th>\n",
       "      <th>boro</th>\n",
       "      <th>housenumber</th>\n",
       "      <th>lowhousenumber</th>\n",
       "      <th>highhousenumber</th>\n",
       "      <th>streetname</th>\n",
       "      <th>streetcode</th>\n",
       "      <th>...</th>\n",
       "      <th>novtype</th>\n",
       "      <th>violationstatus</th>\n",
       "      <th>latitude</th>\n",
       "      <th>longitude</th>\n",
       "      <th>communityboard</th>\n",
       "      <th>councildistrict</th>\n",
       "      <th>censustract</th>\n",
       "      <th>bin</th>\n",
       "      <th>bbl</th>\n",
       "      <th>nta</th>\n",
       "    </tr>\n",
       "  </thead>\n",
       "  <tbody>\n",
       "    <tr>\n",
       "      <th>0</th>\n",
       "      <td>10000009</td>\n",
       "      <td>265980</td>\n",
       "      <td>301467</td>\n",
       "      <td>3</td>\n",
       "      <td>BROOKLYN</td>\n",
       "      <td>355</td>\n",
       "      <td>355</td>\n",
       "      <td>355</td>\n",
       "      <td>EAST 48 STREET</td>\n",
       "      <td>36930</td>\n",
       "      <td>...</td>\n",
       "      <td>Original</td>\n",
       "      <td>Close</td>\n",
       "      <td>40.653217</td>\n",
       "      <td>-73.932480</td>\n",
       "      <td>17</td>\n",
       "      <td>41</td>\n",
       "      <td>870</td>\n",
       "      <td>3102071.0</td>\n",
       "      <td>3.046740e+09</td>\n",
       "      <td>East Flatbush-Farragut</td>\n",
       "    </tr>\n",
       "    <tr>\n",
       "      <th>1</th>\n",
       "      <td>10000011</td>\n",
       "      <td>73852</td>\n",
       "      <td>226626</td>\n",
       "      <td>2</td>\n",
       "      <td>BRONX</td>\n",
       "      <td>1123</td>\n",
       "      <td>1123</td>\n",
       "      <td>1123</td>\n",
       "      <td>EAST TREMONT AVENUE</td>\n",
       "      <td>29620</td>\n",
       "      <td>...</td>\n",
       "      <td>Original</td>\n",
       "      <td>Close</td>\n",
       "      <td>40.839954</td>\n",
       "      <td>-73.876599</td>\n",
       "      <td>6</td>\n",
       "      <td>15</td>\n",
       "      <td>220</td>\n",
       "      <td>2042428.0</td>\n",
       "      <td>2.040040e+09</td>\n",
       "      <td>East Tremont</td>\n",
       "    </tr>\n",
       "    <tr>\n",
       "      <th>2</th>\n",
       "      <td>10000012</td>\n",
       "      <td>80102</td>\n",
       "      <td>211704</td>\n",
       "      <td>2</td>\n",
       "      <td>BRONX</td>\n",
       "      <td>751</td>\n",
       "      <td>751</td>\n",
       "      <td>751</td>\n",
       "      <td>GERARD AVENUE</td>\n",
       "      <td>35020</td>\n",
       "      <td>...</td>\n",
       "      <td>Original</td>\n",
       "      <td>Close</td>\n",
       "      <td>40.824692</td>\n",
       "      <td>-73.926605</td>\n",
       "      <td>4</td>\n",
       "      <td>8</td>\n",
       "      <td>63</td>\n",
       "      <td>2002971.0</td>\n",
       "      <td>2.024820e+09</td>\n",
       "      <td>West Concourse</td>\n",
       "    </tr>\n",
       "    <tr>\n",
       "      <th>3</th>\n",
       "      <td>10000014</td>\n",
       "      <td>268639</td>\n",
       "      <td>350942</td>\n",
       "      <td>3</td>\n",
       "      <td>BROOKLYN</td>\n",
       "      <td>54</td>\n",
       "      <td>54</td>\n",
       "      <td>54</td>\n",
       "      <td>EAST 52 STREET</td>\n",
       "      <td>37080</td>\n",
       "      <td>...</td>\n",
       "      <td>Original</td>\n",
       "      <td>Close</td>\n",
       "      <td>40.659731</td>\n",
       "      <td>-73.929295</td>\n",
       "      <td>17</td>\n",
       "      <td>41</td>\n",
       "      <td>878</td>\n",
       "      <td>3099672.0</td>\n",
       "      <td>3.046050e+09</td>\n",
       "      <td>Prospect Lefferts Gardens-Wingate</td>\n",
       "    </tr>\n",
       "    <tr>\n",
       "      <th>4</th>\n",
       "      <td>10000017</td>\n",
       "      <td>268167</td>\n",
       "      <td>300713</td>\n",
       "      <td>3</td>\n",
       "      <td>BROOKLYN</td>\n",
       "      <td>146</td>\n",
       "      <td>146</td>\n",
       "      <td>146</td>\n",
       "      <td>EAST 52 STREET</td>\n",
       "      <td>37080</td>\n",
       "      <td>...</td>\n",
       "      <td>Original</td>\n",
       "      <td>Close</td>\n",
       "      <td>40.657615</td>\n",
       "      <td>-73.929067</td>\n",
       "      <td>17</td>\n",
       "      <td>41</td>\n",
       "      <td>878</td>\n",
       "      <td>3100214.0</td>\n",
       "      <td>3.046210e+09</td>\n",
       "      <td>Prospect Lefferts Gardens-Wingate</td>\n",
       "    </tr>\n",
       "  </tbody>\n",
       "</table>\n",
       "<p>5 rows × 40 columns</p>\n",
       "</div>"
      ],
      "text/plain": [
       "   violationid  buildingid  registrationid  boroid      boro housenumber  \\\n",
       "0     10000009      265980          301467       3  BROOKLYN         355   \n",
       "1     10000011       73852          226626       2     BRONX        1123   \n",
       "2     10000012       80102          211704       2     BRONX         751   \n",
       "3     10000014      268639          350942       3  BROOKLYN          54   \n",
       "4     10000017      268167          300713       3  BROOKLYN         146   \n",
       "\n",
       "  lowhousenumber highhousenumber           streetname  streetcode  \\\n",
       "0            355             355       EAST 48 STREET       36930   \n",
       "1           1123            1123  EAST TREMONT AVENUE       29620   \n",
       "2            751             751        GERARD AVENUE       35020   \n",
       "3             54              54       EAST 52 STREET       37080   \n",
       "4            146             146       EAST 52 STREET       37080   \n",
       "\n",
       "                 ...                   novtype violationstatus   latitude  \\\n",
       "0                ...                  Original           Close  40.653217   \n",
       "1                ...                  Original           Close  40.839954   \n",
       "2                ...                  Original           Close  40.824692   \n",
       "3                ...                  Original           Close  40.659731   \n",
       "4                ...                  Original           Close  40.657615   \n",
       "\n",
       "   longitude  communityboard councildistrict censustract        bin  \\\n",
       "0 -73.932480              17              41         870  3102071.0   \n",
       "1 -73.876599               6              15         220  2042428.0   \n",
       "2 -73.926605               4               8          63  2002971.0   \n",
       "3 -73.929295              17              41         878  3099672.0   \n",
       "4 -73.929067              17              41         878  3100214.0   \n",
       "\n",
       "            bbl                                nta  \n",
       "0  3.046740e+09             East Flatbush-Farragut  \n",
       "1  2.040040e+09                       East Tremont  \n",
       "2  2.024820e+09                     West Concourse  \n",
       "3  3.046050e+09  Prospect Lefferts Gardens-Wingate  \n",
       "4  3.046210e+09  Prospect Lefferts Gardens-Wingate  \n",
       "\n",
       "[5 rows x 40 columns]"
      ]
     },
     "execution_count": 169,
     "metadata": {},
     "output_type": "execute_result"
    }
   ],
   "source": [
    "df.head(5)"
   ]
  },
  {
   "cell_type": "markdown",
   "metadata": {},
   "source": [
    "### Checking to see which columns are there, and which columns needs \"renaming\" or be \"dropped\""
   ]
  },
  {
   "cell_type": "code",
   "execution_count": 170,
   "metadata": {},
   "outputs": [
    {
     "data": {
      "text/plain": [
       "Index(['violationid', 'buildingid', 'registrationid', 'boroid', 'boro',\n",
       "       'housenumber', 'lowhousenumber', 'highhousenumber', 'streetname',\n",
       "       'streetcode', 'zip', 'apartment', 'story', 'block', 'lot', 'class',\n",
       "       'inspectiondate', 'approveddate', 'originalcertifybydate',\n",
       "       'originalcorrectbydate', 'newcertifybydate', 'newcorrectbydate',\n",
       "       'certifieddate', 'ordernumber', 'novid', 'novdescription',\n",
       "       'novissueddate', 'currentstatusid', 'currentstatus',\n",
       "       'currentstatusdate', 'novtype', 'violationstatus', 'latitude',\n",
       "       'longitude', 'communityboard', 'councildistrict', 'censustract', 'bin',\n",
       "       'bbl', 'nta'],\n",
       "      dtype='object')"
      ]
     },
     "execution_count": 170,
     "metadata": {},
     "output_type": "execute_result"
    }
   ],
   "source": [
    "df.columns"
   ]
  },
  {
   "cell_type": "markdown",
   "metadata": {},
   "source": [
    "### Dropping few columns that are not needed to clean by the data"
   ]
  },
  {
   "cell_type": "code",
   "execution_count": 187,
   "metadata": {},
   "outputs": [
    {
     "data": {
      "text/html": [
       "<div>\n",
       "<style scoped>\n",
       "    .dataframe tbody tr th:only-of-type {\n",
       "        vertical-align: middle;\n",
       "    }\n",
       "\n",
       "    .dataframe tbody tr th {\n",
       "        vertical-align: top;\n",
       "    }\n",
       "\n",
       "    .dataframe thead th {\n",
       "        text-align: right;\n",
       "    }\n",
       "</style>\n",
       "<table border=\"1\" class=\"dataframe\">\n",
       "  <thead>\n",
       "    <tr style=\"text-align: right;\">\n",
       "      <th></th>\n",
       "      <th>violationid</th>\n",
       "      <th>boroid</th>\n",
       "      <th>boro</th>\n",
       "      <th>housenumber</th>\n",
       "      <th>streetname</th>\n",
       "      <th>zip</th>\n",
       "      <th>apartment</th>\n",
       "      <th>block</th>\n",
       "      <th>lot</th>\n",
       "      <th>class</th>\n",
       "      <th>...</th>\n",
       "      <th>novtype</th>\n",
       "      <th>violationstatus</th>\n",
       "      <th>latitude</th>\n",
       "      <th>longitude</th>\n",
       "      <th>communityboard</th>\n",
       "      <th>councildistrict</th>\n",
       "      <th>censustract</th>\n",
       "      <th>bin</th>\n",
       "      <th>bbl</th>\n",
       "      <th>nta</th>\n",
       "    </tr>\n",
       "  </thead>\n",
       "  <tbody>\n",
       "    <tr>\n",
       "      <th>0</th>\n",
       "      <td>10000009</td>\n",
       "      <td>3</td>\n",
       "      <td>BROOKLYN</td>\n",
       "      <td>355</td>\n",
       "      <td>EAST 48 STREET</td>\n",
       "      <td>11203</td>\n",
       "      <td>NaN</td>\n",
       "      <td>4674</td>\n",
       "      <td>64</td>\n",
       "      <td>B</td>\n",
       "      <td>...</td>\n",
       "      <td>Original</td>\n",
       "      <td>Close</td>\n",
       "      <td>40.653217</td>\n",
       "      <td>-73.932480</td>\n",
       "      <td>17</td>\n",
       "      <td>41</td>\n",
       "      <td>870</td>\n",
       "      <td>3102071.0</td>\n",
       "      <td>3.046740e+09</td>\n",
       "      <td>East Flatbush-Farragut</td>\n",
       "    </tr>\n",
       "    <tr>\n",
       "      <th>1</th>\n",
       "      <td>10000011</td>\n",
       "      <td>2</td>\n",
       "      <td>BRONX</td>\n",
       "      <td>1123</td>\n",
       "      <td>EAST TREMONT AVENUE</td>\n",
       "      <td>10460</td>\n",
       "      <td>NaN</td>\n",
       "      <td>4004</td>\n",
       "      <td>9</td>\n",
       "      <td>B</td>\n",
       "      <td>...</td>\n",
       "      <td>Original</td>\n",
       "      <td>Close</td>\n",
       "      <td>40.839954</td>\n",
       "      <td>-73.876599</td>\n",
       "      <td>6</td>\n",
       "      <td>15</td>\n",
       "      <td>220</td>\n",
       "      <td>2042428.0</td>\n",
       "      <td>2.040040e+09</td>\n",
       "      <td>East Tremont</td>\n",
       "    </tr>\n",
       "    <tr>\n",
       "      <th>2</th>\n",
       "      <td>10000012</td>\n",
       "      <td>2</td>\n",
       "      <td>BRONX</td>\n",
       "      <td>751</td>\n",
       "      <td>GERARD AVENUE</td>\n",
       "      <td>10451</td>\n",
       "      <td>3L</td>\n",
       "      <td>2482</td>\n",
       "      <td>30</td>\n",
       "      <td>B</td>\n",
       "      <td>...</td>\n",
       "      <td>Original</td>\n",
       "      <td>Close</td>\n",
       "      <td>40.824692</td>\n",
       "      <td>-73.926605</td>\n",
       "      <td>4</td>\n",
       "      <td>8</td>\n",
       "      <td>63</td>\n",
       "      <td>2002971.0</td>\n",
       "      <td>2.024820e+09</td>\n",
       "      <td>West Concourse</td>\n",
       "    </tr>\n",
       "    <tr>\n",
       "      <th>3</th>\n",
       "      <td>10000014</td>\n",
       "      <td>3</td>\n",
       "      <td>BROOKLYN</td>\n",
       "      <td>54</td>\n",
       "      <td>EAST 52 STREET</td>\n",
       "      <td>11203</td>\n",
       "      <td>NaN</td>\n",
       "      <td>4605</td>\n",
       "      <td>19</td>\n",
       "      <td>B</td>\n",
       "      <td>...</td>\n",
       "      <td>Original</td>\n",
       "      <td>Close</td>\n",
       "      <td>40.659731</td>\n",
       "      <td>-73.929295</td>\n",
       "      <td>17</td>\n",
       "      <td>41</td>\n",
       "      <td>878</td>\n",
       "      <td>3099672.0</td>\n",
       "      <td>3.046050e+09</td>\n",
       "      <td>Prospect Lefferts Gardens-Wingate</td>\n",
       "    </tr>\n",
       "    <tr>\n",
       "      <th>4</th>\n",
       "      <td>10000017</td>\n",
       "      <td>3</td>\n",
       "      <td>BROOKLYN</td>\n",
       "      <td>146</td>\n",
       "      <td>EAST 52 STREET</td>\n",
       "      <td>11203</td>\n",
       "      <td>NaN</td>\n",
       "      <td>4621</td>\n",
       "      <td>21</td>\n",
       "      <td>B</td>\n",
       "      <td>...</td>\n",
       "      <td>Original</td>\n",
       "      <td>Close</td>\n",
       "      <td>40.657615</td>\n",
       "      <td>-73.929067</td>\n",
       "      <td>17</td>\n",
       "      <td>41</td>\n",
       "      <td>878</td>\n",
       "      <td>3100214.0</td>\n",
       "      <td>3.046210e+09</td>\n",
       "      <td>Prospect Lefferts Gardens-Wingate</td>\n",
       "    </tr>\n",
       "  </tbody>\n",
       "</table>\n",
       "<p>5 rows × 34 columns</p>\n",
       "</div>"
      ],
      "text/plain": [
       "   violationid  boroid      boro housenumber           streetname    zip  \\\n",
       "0     10000009       3  BROOKLYN         355       EAST 48 STREET  11203   \n",
       "1     10000011       2     BRONX        1123  EAST TREMONT AVENUE  10460   \n",
       "2     10000012       2     BRONX         751        GERARD AVENUE  10451   \n",
       "3     10000014       3  BROOKLYN          54       EAST 52 STREET  11203   \n",
       "4     10000017       3  BROOKLYN         146       EAST 52 STREET  11203   \n",
       "\n",
       "  apartment  block  lot class                ...                   novtype  \\\n",
       "0       NaN   4674   64     B                ...                  Original   \n",
       "1       NaN   4004    9     B                ...                  Original   \n",
       "2        3L   2482   30     B                ...                  Original   \n",
       "3       NaN   4605   19     B                ...                  Original   \n",
       "4       NaN   4621   21     B                ...                  Original   \n",
       "\n",
       "  violationstatus   latitude  longitude communityboard councildistrict  \\\n",
       "0           Close  40.653217 -73.932480             17              41   \n",
       "1           Close  40.839954 -73.876599              6              15   \n",
       "2           Close  40.824692 -73.926605              4               8   \n",
       "3           Close  40.659731 -73.929295             17              41   \n",
       "4           Close  40.657615 -73.929067             17              41   \n",
       "\n",
       "  censustract        bin           bbl                                nta  \n",
       "0         870  3102071.0  3.046740e+09             East Flatbush-Farragut  \n",
       "1         220  2042428.0  2.040040e+09                       East Tremont  \n",
       "2          63  2002971.0  2.024820e+09                     West Concourse  \n",
       "3         878  3099672.0  3.046050e+09  Prospect Lefferts Gardens-Wingate  \n",
       "4         878  3100214.0  3.046210e+09  Prospect Lefferts Gardens-Wingate  \n",
       "\n",
       "[5 rows x 34 columns]"
      ]
     },
     "execution_count": 187,
     "metadata": {},
     "output_type": "execute_result"
    }
   ],
   "source": [
    "df_2 = df.drop(df.columns[[1,2,6,7,9,12]], axis=1)\n",
    "df_2.head()"
   ]
  },
  {
   "cell_type": "markdown",
   "metadata": {},
   "source": [
    "### Renaming columns to clean up the column names for better appearance"
   ]
  },
  {
   "cell_type": "code",
   "execution_count": 188,
   "metadata": {},
   "outputs": [
    {
     "data": {
      "text/html": [
       "<div>\n",
       "<style scoped>\n",
       "    .dataframe tbody tr th:only-of-type {\n",
       "        vertical-align: middle;\n",
       "    }\n",
       "\n",
       "    .dataframe tbody tr th {\n",
       "        vertical-align: top;\n",
       "    }\n",
       "\n",
       "    .dataframe thead th {\n",
       "        text-align: right;\n",
       "    }\n",
       "</style>\n",
       "<table border=\"1\" class=\"dataframe\">\n",
       "  <thead>\n",
       "    <tr style=\"text-align: right;\">\n",
       "      <th></th>\n",
       "      <th>ViolationID</th>\n",
       "      <th>BoroughID</th>\n",
       "      <th>Borough</th>\n",
       "      <th>House Number</th>\n",
       "      <th>Street Name</th>\n",
       "      <th>Zipcode</th>\n",
       "      <th>apartment</th>\n",
       "      <th>block</th>\n",
       "      <th>lot</th>\n",
       "      <th>class</th>\n",
       "      <th>...</th>\n",
       "      <th>novtype</th>\n",
       "      <th>violationstatus</th>\n",
       "      <th>latitude</th>\n",
       "      <th>longitude</th>\n",
       "      <th>communityboard</th>\n",
       "      <th>councildistrict</th>\n",
       "      <th>censustract</th>\n",
       "      <th>bin</th>\n",
       "      <th>bbl</th>\n",
       "      <th>nta</th>\n",
       "    </tr>\n",
       "  </thead>\n",
       "  <tbody>\n",
       "    <tr>\n",
       "      <th>0</th>\n",
       "      <td>10000009</td>\n",
       "      <td>3</td>\n",
       "      <td>BROOKLYN</td>\n",
       "      <td>355</td>\n",
       "      <td>EAST 48 STREET</td>\n",
       "      <td>11203</td>\n",
       "      <td>NaN</td>\n",
       "      <td>4674</td>\n",
       "      <td>64</td>\n",
       "      <td>B</td>\n",
       "      <td>...</td>\n",
       "      <td>Original</td>\n",
       "      <td>Close</td>\n",
       "      <td>40.653217</td>\n",
       "      <td>-73.932480</td>\n",
       "      <td>17</td>\n",
       "      <td>41</td>\n",
       "      <td>870</td>\n",
       "      <td>3102071.0</td>\n",
       "      <td>3.046740e+09</td>\n",
       "      <td>East Flatbush-Farragut</td>\n",
       "    </tr>\n",
       "    <tr>\n",
       "      <th>1</th>\n",
       "      <td>10000011</td>\n",
       "      <td>2</td>\n",
       "      <td>BRONX</td>\n",
       "      <td>1123</td>\n",
       "      <td>EAST TREMONT AVENUE</td>\n",
       "      <td>10460</td>\n",
       "      <td>NaN</td>\n",
       "      <td>4004</td>\n",
       "      <td>9</td>\n",
       "      <td>B</td>\n",
       "      <td>...</td>\n",
       "      <td>Original</td>\n",
       "      <td>Close</td>\n",
       "      <td>40.839954</td>\n",
       "      <td>-73.876599</td>\n",
       "      <td>6</td>\n",
       "      <td>15</td>\n",
       "      <td>220</td>\n",
       "      <td>2042428.0</td>\n",
       "      <td>2.040040e+09</td>\n",
       "      <td>East Tremont</td>\n",
       "    </tr>\n",
       "    <tr>\n",
       "      <th>2</th>\n",
       "      <td>10000012</td>\n",
       "      <td>2</td>\n",
       "      <td>BRONX</td>\n",
       "      <td>751</td>\n",
       "      <td>GERARD AVENUE</td>\n",
       "      <td>10451</td>\n",
       "      <td>3L</td>\n",
       "      <td>2482</td>\n",
       "      <td>30</td>\n",
       "      <td>B</td>\n",
       "      <td>...</td>\n",
       "      <td>Original</td>\n",
       "      <td>Close</td>\n",
       "      <td>40.824692</td>\n",
       "      <td>-73.926605</td>\n",
       "      <td>4</td>\n",
       "      <td>8</td>\n",
       "      <td>63</td>\n",
       "      <td>2002971.0</td>\n",
       "      <td>2.024820e+09</td>\n",
       "      <td>West Concourse</td>\n",
       "    </tr>\n",
       "    <tr>\n",
       "      <th>3</th>\n",
       "      <td>10000014</td>\n",
       "      <td>3</td>\n",
       "      <td>BROOKLYN</td>\n",
       "      <td>54</td>\n",
       "      <td>EAST 52 STREET</td>\n",
       "      <td>11203</td>\n",
       "      <td>NaN</td>\n",
       "      <td>4605</td>\n",
       "      <td>19</td>\n",
       "      <td>B</td>\n",
       "      <td>...</td>\n",
       "      <td>Original</td>\n",
       "      <td>Close</td>\n",
       "      <td>40.659731</td>\n",
       "      <td>-73.929295</td>\n",
       "      <td>17</td>\n",
       "      <td>41</td>\n",
       "      <td>878</td>\n",
       "      <td>3099672.0</td>\n",
       "      <td>3.046050e+09</td>\n",
       "      <td>Prospect Lefferts Gardens-Wingate</td>\n",
       "    </tr>\n",
       "    <tr>\n",
       "      <th>4</th>\n",
       "      <td>10000017</td>\n",
       "      <td>3</td>\n",
       "      <td>BROOKLYN</td>\n",
       "      <td>146</td>\n",
       "      <td>EAST 52 STREET</td>\n",
       "      <td>11203</td>\n",
       "      <td>NaN</td>\n",
       "      <td>4621</td>\n",
       "      <td>21</td>\n",
       "      <td>B</td>\n",
       "      <td>...</td>\n",
       "      <td>Original</td>\n",
       "      <td>Close</td>\n",
       "      <td>40.657615</td>\n",
       "      <td>-73.929067</td>\n",
       "      <td>17</td>\n",
       "      <td>41</td>\n",
       "      <td>878</td>\n",
       "      <td>3100214.0</td>\n",
       "      <td>3.046210e+09</td>\n",
       "      <td>Prospect Lefferts Gardens-Wingate</td>\n",
       "    </tr>\n",
       "  </tbody>\n",
       "</table>\n",
       "<p>5 rows × 34 columns</p>\n",
       "</div>"
      ],
      "text/plain": [
       "   ViolationID  BoroughID   Borough  House Number          Street Name  \\\n",
       "0     10000009          3  BROOKLYN           355       EAST 48 STREET   \n",
       "1     10000011          2     BRONX          1123  EAST TREMONT AVENUE   \n",
       "2     10000012          2     BRONX           751        GERARD AVENUE   \n",
       "3     10000014          3  BROOKLYN            54       EAST 52 STREET   \n",
       "4     10000017          3  BROOKLYN           146       EAST 52 STREET   \n",
       "\n",
       "   Zipcode apartment  block  lot class                ...                  \\\n",
       "0    11203       NaN   4674   64     B                ...                   \n",
       "1    10460       NaN   4004    9     B                ...                   \n",
       "2    10451        3L   2482   30     B                ...                   \n",
       "3    11203       NaN   4605   19     B                ...                   \n",
       "4    11203       NaN   4621   21     B                ...                   \n",
       "\n",
       "    novtype violationstatus   latitude  longitude communityboard  \\\n",
       "0  Original           Close  40.653217 -73.932480             17   \n",
       "1  Original           Close  40.839954 -73.876599              6   \n",
       "2  Original           Close  40.824692 -73.926605              4   \n",
       "3  Original           Close  40.659731 -73.929295             17   \n",
       "4  Original           Close  40.657615 -73.929067             17   \n",
       "\n",
       "  councildistrict censustract        bin           bbl  \\\n",
       "0              41         870  3102071.0  3.046740e+09   \n",
       "1              15         220  2042428.0  2.040040e+09   \n",
       "2               8          63  2002971.0  2.024820e+09   \n",
       "3              41         878  3099672.0  3.046050e+09   \n",
       "4              41         878  3100214.0  3.046210e+09   \n",
       "\n",
       "                                 nta  \n",
       "0             East Flatbush-Farragut  \n",
       "1                       East Tremont  \n",
       "2                     West Concourse  \n",
       "3  Prospect Lefferts Gardens-Wingate  \n",
       "4  Prospect Lefferts Gardens-Wingate  \n",
       "\n",
       "[5 rows x 34 columns]"
      ]
     },
     "execution_count": 188,
     "metadata": {},
     "output_type": "execute_result"
    }
   ],
   "source": [
    "df_3 = df_2.rename(columns={'violationid': \"ViolationID\",'boroid': \"BoroughID\",'boro':\"Borough\", \"housenumber\":\" House Number\",\n",
    "                           \"streetname\":'Street Name','zip':'Zipcode'})\n",
    "df_3.head()"
   ]
  },
  {
   "cell_type": "markdown",
   "metadata": {},
   "source": [
    "### Using the command to see how many total values are in each Borough; remember we are only using up to 5000 rows"
   ]
  },
  {
   "cell_type": "code",
   "execution_count": 189,
   "metadata": {},
   "outputs": [
    {
     "data": {
      "text/plain": [
       "BROOKLYN         1862\n",
       "BRONX            1622\n",
       "MANHATTAN        1106\n",
       "QUEENS            347\n",
       "STATEN ISLAND      63\n",
       "Name: Borough, dtype: int64"
      ]
     },
     "execution_count": 189,
     "metadata": {},
     "output_type": "execute_result"
    }
   ],
   "source": [
    "df_3['Borough'].value_counts()"
   ]
  },
  {
   "cell_type": "code",
   "execution_count": 174,
   "metadata": {},
   "outputs": [],
   "source": [
    "# Filter the DataFrame down only to those columns to chart\n",
    "#state_and_inches = df_3[[\"Borough\",\"class\"]]\n",
    "\n",
    "# Set the index to be \"State\" so they will be used as labels\n",
    "#state_and_inches = state_and_inches.set_index(\"Borough\")\n",
    "\n",
    "#state_and_inches.head()"
   ]
  },
  {
   "cell_type": "markdown",
   "metadata": {},
   "source": [
    "### This is where the fun begins, values in each Borough are represented in Bar chart listed below"
   ]
  },
  {
   "cell_type": "code",
   "execution_count": 190,
   "metadata": {},
   "outputs": [
    {
     "data": {
      "image/png": "[encoded data removed]",
      "text/plain": [
       "<Figure size 432x288 with 1 Axes>"
      ]
     },
     "metadata": {},
     "output_type": "display_data"
    },
    {
     "data": {
      "text/plain": [
       "<Figure size 432x288 with 0 Axes>"
      ]
     },
     "metadata": {},
     "output_type": "display_data"
    }
   ],
   "source": [
    "# Split up our data into groups based upon 'Borough'\n",
    "by_borough = df_3.groupby('Borough')\n",
    "\n",
    "# Find out how many values are in each borough\n",
    "#borough_count = borough_groups['class'].count()\n",
    "\n",
    "# Chart our data, give it a title, and label the axes\n",
    "borough_chart = gender_trips.plot(kind=\"bar\", title=\"Incident By Each Borough\")\n",
    "gender_chart.set_xlabel(\"Borough\")\n",
    "gender_chart.set_ylabel(\"Number of Incident\")\n",
    "\n",
    "plt.show()\n",
    "plt.tight_layout()"
   ]
  },
  {
   "cell_type": "markdown",
   "metadata": {},
   "source": [
    "### We are not going to see, for our data that contains Violations: Which \"class\" group represent the most amount of violations? We can see, class: B has the most number of Violations."
   ]
  },
  {
   "cell_type": "code",
   "execution_count": 176,
   "metadata": {},
   "outputs": [
    {
     "data": {
      "text/plain": [
       "<matplotlib.axes._subplots.AxesSubplot at 0x15d8b75c0>"
      ]
     },
     "execution_count": 176,
     "metadata": {},
     "output_type": "execute_result"
    },
    {
     "data": {
      "image/png": "[encoded data removed]",
      "text/plain": [
       "<Figure size 432x288 with 1 Axes>"
      ]
     },
     "metadata": {},
     "output_type": "display_data"
    }
   ],
   "source": [
    "issues_by_class = df['class'].value_counts()\n",
    "issues_by_class.plot.bar()"
   ]
  },
  {
   "cell_type": "markdown",
   "metadata": {},
   "source": [
    "### Here we are going to find out, which borough takes the longest to close the violations"
   ]
  },
  {
   "cell_type": "code",
   "execution_count": 179,
   "metadata": {},
   "outputs": [
    {
     "data": {
      "text/html": [
       "<div>\n",
       "<style scoped>\n",
       "    .dataframe tbody tr th:only-of-type {\n",
       "        vertical-align: middle;\n",
       "    }\n",
       "\n",
       "    .dataframe tbody tr th {\n",
       "        vertical-align: top;\n",
       "    }\n",
       "\n",
       "    .dataframe thead th {\n",
       "        text-align: right;\n",
       "    }\n",
       "</style>\n",
       "<table border=\"1\" class=\"dataframe\">\n",
       "  <thead>\n",
       "    <tr style=\"text-align: right;\">\n",
       "      <th></th>\n",
       "      <th>difference</th>\n",
       "      <th>boro</th>\n",
       "    </tr>\n",
       "  </thead>\n",
       "  <tbody>\n",
       "    <tr>\n",
       "      <th>0</th>\n",
       "      <td>539 days</td>\n",
       "      <td>BROOKLYN</td>\n",
       "    </tr>\n",
       "    <tr>\n",
       "      <th>1</th>\n",
       "      <td>706 days</td>\n",
       "      <td>BRONX</td>\n",
       "    </tr>\n",
       "    <tr>\n",
       "      <th>2</th>\n",
       "      <td>374 days</td>\n",
       "      <td>BRONX</td>\n",
       "    </tr>\n",
       "    <tr>\n",
       "      <th>3</th>\n",
       "      <td>1042 days</td>\n",
       "      <td>BROOKLYN</td>\n",
       "    </tr>\n",
       "    <tr>\n",
       "      <th>4</th>\n",
       "      <td>356 days</td>\n",
       "      <td>BROOKLYN</td>\n",
       "    </tr>\n",
       "  </tbody>\n",
       "</table>\n",
       "</div>"
      ],
      "text/plain": [
       "  difference      boro\n",
       "0   539 days  BROOKLYN\n",
       "1   706 days     BRONX\n",
       "2   374 days     BRONX\n",
       "3  1042 days  BROOKLYN\n",
       "4   356 days  BROOKLYN"
      ]
     },
     "execution_count": 179,
     "metadata": {},
     "output_type": "execute_result"
    }
   ],
   "source": [
    "#Now we going to find out, how long does it take to closed the violation by each borough?\n",
    "date_of_inspection = pd.to_datetime(df['inspectiondate'])\n",
    "current_status = pd.to_datetime(df['currentstatusdate'])\n",
    "df['difference']=pd.to_timedelta(current_status - inspection_date, unit = 'd')\n",
    "issues_closed = df[df['currentstatus'] == 'VIOLATION CLOSED']\n",
    "issues_closed[['difference', 'boro']].head()"
   ]
  },
  {
   "cell_type": "markdown",
   "metadata": {},
   "source": [
    "### Plotting to see which Borough takes the longest to close Violations? And we can see \"Staten Island\" takes the longest to close the Violations. "
   ]
  },
  {
   "cell_type": "code",
   "execution_count": 184,
   "metadata": {},
   "outputs": [
    {
     "name": "stderr",
     "output_type": "stream",
     "text": [
      "/Users/harisx91/anaconda3/lib/python3.6/site-packages/scipy/stats/stats.py:1713: FutureWarning: Using a non-tuple sequence for multidimensional indexing is deprecated; use `arr[tuple(seq)]` instead of `arr[seq]`. In the future this will be interpreted as an array index, `arr[np.array(seq)]`, which will result either in an error or a different result.\n",
      "  return np.add.reduce(sorted[indexer] * weights, axis=axis) / sumval\n"
     ]
    },
    {
     "data": {
      "text/plain": [
       "Text(0.5,1,'Days to Close Violations')"
      ]
     },
     "execution_count": 184,
     "metadata": {},
     "output_type": "execute_result"
    },
    {
     "data": {
      "image/png": "[encoded data removed]",
      "text/plain": [
       "<Figure size 432x288 with 1 Axes>"
      ]
     },
     "metadata": {},
     "output_type": "display_data"
    }
   ],
   "source": [
    "#Putting the data in perspective to see how long it take to close the violation by each borough?\n",
    "sns.barplot(x = 'boro',y = 'difference', data = issues_closed)\n",
    "plt.title(\"Days to Close Violations\")"
   ]
  },
  {
   "cell_type": "markdown",
   "metadata": {},
   "source": [
    "### In this exercise, I was able to find out that Brooklyn has the highest number of Violations and Staten Island has the lowest number of Violations BUT Staten Island takes the longest to close the violation tickets. "
   ]
  },
  {
   "cell_type": "code",
   "execution_count": null,
   "metadata": {},
   "outputs": [],
   "source": []
  }
 ],
 "metadata": {
  "kernelspec": {
   "display_name": "Python 3",
   "language": "python",
   "name": "python3"
  },
  "language_info": {
   "codemirror_mode": {
    "name": "ipython",
    "version": 3
   },
   "file_extension": ".py",
   "mimetype": "text/x-python",
   "name": "python",
   "nbconvert_exporter": "python",
   "pygments_lexer": "ipython3",
   "version": "3.6.5"
  }
 },
 "nbformat": 4,
 "nbformat_minor": 2
}
