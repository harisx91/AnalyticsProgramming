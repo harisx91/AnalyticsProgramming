{
 "cells": [
  {
   "cell_type": "markdown",
   "metadata": {},
   "source": [
    "## Haris Sumra\n",
    "## 09/22/2019\n",
    "## Analytical Programming\n",
    "\n",
    "### Module 3 : Functions and Error Handling\n"
   ]
  },
  {
   "cell_type": "code",
   "execution_count": 66,
   "metadata": {},
   "outputs": [],
   "source": [
    "import string"
   ]
  },
  {
   "cell_type": "code",
   "execution_count": 67,
   "metadata": {},
   "outputs": [],
   "source": [
    "letter_lower = list (string.ascii_lowercase) #List of all lower-case letters"
   ]
  },
  {
   "cell_type": "code",
   "execution_count": 68,
   "metadata": {},
   "outputs": [],
   "source": [
    "numbers = list(range(1,27)) #List of numbers from 1-26"
   ]
  },
  {
   "cell_type": "markdown",
   "metadata": {},
   "source": [
    "### Check to see which numbers in \"numbers\" are divisible by 4 by running for loop###"
   ]
  },
  {
   "cell_type": "code",
   "execution_count": 69,
   "metadata": {},
   "outputs": [
    {
     "name": "stdout",
     "output_type": "stream",
     "text": [
      "4 is divisible by 4\n",
      "8 is divisible by 4\n",
      "12 is divisible by 4\n",
      "16 is divisible by 4\n",
      "20 is divisible by 4\n",
      "24 is divisible by 4\n"
     ]
    }
   ],
   "source": [
    "for i in numbers:\n",
    "    if i % 4 == 0:\n",
    "        print(str(i) + \" is divisible by 4\")"
   ]
  },
  {
   "cell_type": "markdown",
   "metadata": {},
   "source": [
    "### We are going to print each list and also find out what class type each list is.###"
   ]
  },
  {
   "cell_type": "code",
   "execution_count": 70,
   "metadata": {},
   "outputs": [
    {
     "name": "stdout",
     "output_type": "stream",
     "text": [
      "['a', 'b', 'c', 'd', 'e', 'f', 'g', 'h', 'i', 'j', 'k', 'l', 'm', 'n', 'o', 'p', 'q', 'r', 's', 't', 'u', 'v', 'w', 'x', 'y', 'z']\n",
      "\n",
      "\n",
      "[1, 2, 3, 4, 5, 6, 7, 8, 9, 10, 11, 12, 13, 14, 15, 16, 17, 18, 19, 20, 21, 22, 23, 24, 25, 26]\n",
      "\n",
      "\n",
      "Lowercase letter is class type of <class 'list'>\n",
      "\n",
      "\n",
      "Numbers are class type of <class 'list'>\n"
     ]
    }
   ],
   "source": [
    "print(letter_lower)\n",
    "print(\"\\n\")\n",
    "print(numbers)\n",
    "print(\"\\n\")\n",
    "print(\"Lowercase letter is class type of \" + str(type(letter_lower)))\n",
    "print(\"\\n\")\n",
    "print(\"Numbers are class type of \"+ str(type(numbers)))"
   ]
  },
  {
   "cell_type": "markdown",
   "metadata": {},
   "source": [
    "### Creating Tuples for both \"letter_lower\" and \"number\"; using the Zip command###"
   ]
  },
  {
   "cell_type": "code",
   "execution_count": 71,
   "metadata": {},
   "outputs": [
    {
     "name": "stdout",
     "output_type": "stream",
     "text": [
      "[('a', 1), ('b', 2), ('c', 3), ('d', 4), ('e', 5), ('f', 6), ('g', 7), ('h', 8), ('i', 9), ('j', 10), ('k', 11), ('l', 12), ('m', 13), ('n', 14), ('o', 15), ('p', 16), ('q', 17), ('r', 18), ('s', 19), ('t', 20), ('u', 21), ('v', 22), ('w', 23), ('x', 24), ('y', 25), ('z', 26)]\n"
     ]
    }
   ],
   "source": [
    "tupleList = list(zip(letter_lower, numbers))\n",
    "print(tupleList)"
   ]
  },
  {
   "cell_type": "markdown",
   "metadata": {},
   "source": [
    "### Finding out class type of tupleList and first element in tupleList ###"
   ]
  },
  {
   "cell_type": "code",
   "execution_count": 72,
   "metadata": {},
   "outputs": [
    {
     "name": "stdout",
     "output_type": "stream",
     "text": [
      "tupleList is class type of <class 'list'>\n",
      "\n",
      " first element in tupleList is class type of <class 'tuple'>\n"
     ]
    }
   ],
   "source": [
    "print(\"tupleList is class type of \" + str((type(tupleList))))\n",
    "\n",
    "print(\"\\n first element in tupleList is class type of \" + str(type(tupleList[0])))"
   ]
  },
  {
   "cell_type": "markdown",
   "metadata": {},
   "source": [
    "### Create a list of numbers divisible by 4 ###"
   ]
  },
  {
   "cell_type": "code",
   "execution_count": 73,
   "metadata": {},
   "outputs": [
    {
     "data": {
      "text/plain": [
       "['d', 'h', 'l', 'p', 't', 'x']"
      ]
     },
     "execution_count": 73,
     "metadata": {},
     "output_type": "execute_result"
    }
   ],
   "source": [
    "[ letter for letter, number in tupleList if (number % 4 == 0) ]"
   ]
  },
  {
   "cell_type": "markdown",
   "metadata": {},
   "source": [
    "### Unicode value of each letter using the ord() function ###"
   ]
  },
  {
   "cell_type": "code",
   "execution_count": 74,
   "metadata": {},
   "outputs": [
    {
     "name": "stdout",
     "output_type": "stream",
     "text": [
      "The unicode value for 'a' is 97\n",
      "The unicode value for 'b' is 98\n",
      "The unicode value for 'c' is 99\n",
      "The unicode value for 'd' is 100\n",
      "The unicode value for 'e' is 101\n",
      "The unicode value for 'f' is 102\n",
      "The unicode value for 'g' is 103\n",
      "The unicode value for 'h' is 104\n",
      "The unicode value for 'i' is 105\n",
      "The unicode value for 'j' is 106\n",
      "The unicode value for 'k' is 107\n",
      "The unicode value for 'l' is 108\n",
      "The unicode value for 'm' is 109\n",
      "The unicode value for 'n' is 110\n",
      "The unicode value for 'o' is 111\n",
      "The unicode value for 'p' is 112\n",
      "The unicode value for 'q' is 113\n",
      "The unicode value for 'r' is 114\n",
      "The unicode value for 's' is 115\n",
      "The unicode value for 't' is 116\n",
      "The unicode value for 'u' is 117\n",
      "The unicode value for 'v' is 118\n",
      "The unicode value for 'w' is 119\n",
      "The unicode value for 'x' is 120\n",
      "The unicode value for 'y' is 121\n",
      "The unicode value for 'z' is 122\n"
     ]
    }
   ],
   "source": [
    "for i in range(len(letter_lower)):\n",
    "    print(\"The unicode value for '\" + letter_lower[i] + \"' is \" + str(ord(letter_lower[i])))"
   ]
  },
  {
   "cell_type": "markdown",
   "metadata": {},
   "source": [
    "### Writing an algorithmic code so that each letter is not repeated in our Unicode ###"
   ]
  },
  {
   "cell_type": "code",
   "execution_count": 75,
   "metadata": {},
   "outputs": [],
   "source": [
    "# It will combine our letter to a unique letter code.\n",
    "def uniqueinteger(letter):\n",
    "    if letter not in string.ascii_lowercase:\n",
    "        raise TypeError(str(letter) + \" Sorry cannot be hashed, since it is not a lower case letter\")\n",
    "    return ord(letter) + (letter_lower.index(letter) + 1)\n"
   ]
  },
  {
   "cell_type": "code",
   "execution_count": 76,
   "metadata": {},
   "outputs": [],
   "source": [
    "def UniqueHash(_uniqueList, uniqueFunction):\n",
    "    ret = []\n",
    "    for i in range(len(_uniqueList)):\n",
    "        ret.append(uniqueFunction(_uniqueList[i]))\n",
    "    return ret\n",
    "\n",
    "def UniqueHashList(string, uniqueFunction = uniqueinteger):\n",
    "    return UniqueHash(string, uniqueFunction)"
   ]
  },
  {
   "cell_type": "code",
   "execution_count": 77,
   "metadata": {},
   "outputs": [],
   "source": [
    "hashLetter = UniqueHashList(letter_lower)"
   ]
  },
  {
   "cell_type": "code",
   "execution_count": 78,
   "metadata": {},
   "outputs": [
    {
     "name": "stdout",
     "output_type": "stream",
     "text": [
      "[98, 100, 102, 104, 106, 108, 110, 112, 114, 116, 118, 120, 122, 124, 126, 128, 130, 132, 134, 136, 138, 140, 142, 144, 146, 148]\n"
     ]
    }
   ],
   "source": [
    "print(hashLetter)"
   ]
  },
  {
   "cell_type": "markdown",
   "metadata": {},
   "source": [
    "### Check to see if these values are indeed unique ###"
   ]
  },
  {
   "cell_type": "code",
   "execution_count": 79,
   "metadata": {},
   "outputs": [
    {
     "name": "stdout",
     "output_type": "stream",
     "text": [
      "What is the length of the hash created? 26\n"
     ]
    }
   ],
   "source": [
    "print(\"What is the length of the hash created? \" +str(len(hashLetter)))"
   ]
  },
  {
   "cell_type": "markdown",
   "metadata": {},
   "source": [
    "### We can zip the \"hashLetter\" and \"letter_lower\" in funtion ###"
   ]
  },
  {
   "cell_type": "code",
   "execution_count": 86,
   "metadata": {},
   "outputs": [],
   "source": [
    "ziphash = dict(zip(letter_lower, hashLetter))"
   ]
  },
  {
   "cell_type": "code",
   "execution_count": 87,
   "metadata": {},
   "outputs": [
    {
     "name": "stdout",
     "output_type": "stream",
     "text": [
      "{'a': 98, 'b': 100, 'c': 102, 'd': 104, 'e': 106, 'f': 108, 'g': 110, 'h': 112, 'i': 114, 'j': 116, 'k': 118, 'l': 120, 'm': 122, 'n': 124, 'o': 126, 'p': 128, 'q': 130, 'r': 132, 's': 134, 't': 136, 'u': 138, 'v': 140, 'w': 142, 'x': 144, 'y': 146, 'z': 148}\n"
     ]
    }
   ],
   "source": [
    "print(ziphash)"
   ]
  },
  {
   "cell_type": "markdown",
   "metadata": {},
   "source": [
    "### Turning a function to a list ###"
   ]
  },
  {
   "cell_type": "code",
   "execution_count": 88,
   "metadata": {},
   "outputs": [],
   "source": [
    "def stringhash(string):\n",
    "    try:\n",
    "        return UniqueHashList(list(string))\n",
    "    except TypeError as a:\n",
    "        print(a)"
   ]
  },
  {
   "cell_type": "markdown",
   "metadata": {},
   "source": [
    "### Now that we have created the list, let's see how we can make use of it ###"
   ]
  },
  {
   "cell_type": "code",
   "execution_count": 89,
   "metadata": {},
   "outputs": [
    {
     "name": "stdout",
     "output_type": "stream",
     "text": [
      "H is not a lower case letter and can't be hashed\n"
     ]
    }
   ],
   "source": [
    "stringhash(\"Hello There\")"
   ]
  },
  {
   "cell_type": "code",
   "execution_count": 90,
   "metadata": {},
   "outputs": [
    {
     "name": "stdout",
     "output_type": "stream",
     "text": [
      "  is not a lower case letter and can't be hashed\n"
     ]
    }
   ],
   "source": [
    "stringhash(\"hello there\")"
   ]
  },
  {
   "cell_type": "code",
   "execution_count": 91,
   "metadata": {},
   "outputs": [
    {
     "name": "stdout",
     "output_type": "stream",
     "text": [
      "[112, 106, 120, 120, 126]\n"
     ]
    }
   ],
   "source": [
    "print(stringhash(\"hello\"))"
   ]
  },
  {
   "cell_type": "code",
   "execution_count": null,
   "metadata": {},
   "outputs": [],
   "source": []
  }
 ],
 "metadata": {
  "kernelspec": {
   "display_name": "Python 3",
   "language": "python",
   "name": "python3"
  },
  "language_info": {
   "codemirror_mode": {
    "name": "ipython",
    "version": 3
   },
   "file_extension": ".py",
   "mimetype": "text/x-python",
   "name": "python",
   "nbconvert_exporter": "python",
   "pygments_lexer": "ipython3",
   "version": "3.6.5"
  }
 },
 "nbformat": 4,
 "nbformat_minor": 2
}
