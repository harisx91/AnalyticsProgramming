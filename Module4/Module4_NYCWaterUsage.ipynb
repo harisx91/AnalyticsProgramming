{
 "cells": [
  {
   "cell_type": "markdown",
   "metadata": {},
   "source": [
    "## Haris Sumra\n",
    "### Module_4 : NYC Water Consumption\n",
    "\n",
    "In this module we are going to import data from the CSV file stored in Resources folder of this Notebook, and we are going to answer questions like:\n",
    "* Finding out the Maximum value of NYC Water Consumption\n",
    "* How many years are within the data\n",
    "* Finding out both the mean and standard deviation for the data \n",
    "* Looking for differences in population from year to year\n",
    "* Creating arrays and finding out which data type are they\n",
    "* Finally, verifying that \"Vectorized Operations\" are faster than both loop and list comprehension"
   ]
  },
  {
   "cell_type": "code",
   "execution_count": 141,
   "metadata": {},
   "outputs": [],
   "source": [
    "#Dependencies\n",
    "import numpy as np"
   ]
  },
  {
   "cell_type": "markdown",
   "metadata": {},
   "source": [
    "#### Importing CSV file that is stored in \"Resources\" folder : Checking to see which type of file that is"
   ]
  },
  {
   "cell_type": "code",
   "execution_count": 142,
   "metadata": {},
   "outputs": [
    {
     "data": {
      "text/plain": [
       "numpy.ndarray"
      ]
     },
     "execution_count": 142,
     "metadata": {},
     "output_type": "execute_result"
    }
   ],
   "source": [
    "#Name of CSV file\n",
    "Water_data = np.genfromtxt(\"Resources/Water_Consumption_In_The_New_York_City.csv\",delimiter = \",\",skip_header = 1)\n",
    "type(Water_data)"
   ]
  },
  {
   "cell_type": "markdown",
   "metadata": {},
   "source": [
    "#### This command will show the CSV (Water_data) without any scientific notation"
   ]
  },
  {
   "cell_type": "code",
   "execution_count": 143,
   "metadata": {},
   "outputs": [],
   "source": [
    "np.set_printoptions(precision = 3, suppress = True)"
   ]
  },
  {
   "cell_type": "code",
   "execution_count": 144,
   "metadata": {},
   "outputs": [
    {
     "data": {
      "text/plain": [
       "array([[   1979. , 7102100. ,    1512. ,     213. ],\n",
       "       [   1980. , 7071639. ,    1506. ,     213. ],\n",
       "       [   1981. , 7089241. ,    1309. ,     185. ],\n",
       "       [   1982. , 7109105. ,    1382. ,     194. ],\n",
       "       [   1983. , 7181224. ,    1424. ,     198. ],\n",
       "       [   1984. , 7234514. ,    1465. ,     203. ],\n",
       "       [   1985. , 7274054. ,    1326. ,     182. ],\n",
       "       [   1986. , 7319246. ,    1351. ,     185. ],\n",
       "       [   1987. , 7342476. ,    1447. ,     197. ],\n",
       "       [   1988. , 7353719. ,    1484. ,     202. ],\n",
       "       [   1989. , 7344175. ,    1402. ,     191. ],\n",
       "       [   1990. , 7335650. ,    1424. ,     194. ],\n",
       "       [   1991. , 7374501. ,    1469. ,     199. ],\n",
       "       [   1992. , 7428944. ,    1369. ,     184. ],\n",
       "       [   1993. , 7506166. ,    1368.5,     182. ],\n",
       "       [   1994. , 7570458. ,    1357.7,     179. ],\n",
       "       [   1995. , 7633040. ,    1325.7,     174. ],\n",
       "       [   1996. , 7697812. ,    1297.9,     169. ],\n",
       "       [   1997. , 7773443. ,    1205.5,     155. ],\n",
       "       [   1998. , 7858259. ,    1219.5,     155. ],\n",
       "       [   1999. , 7947660. ,    1237.2,     156. ],\n",
       "       [   2000. , 8008278. ,    1240.4,     155. ],\n",
       "       [   2001. , 8024963.5,    1184. ,     148. ],\n",
       "       [   2002. , 8041649. ,    1135.6,     141. ],\n",
       "       [   2003. , 8058334.5,    1093.7,     136. ],\n",
       "       [   2004. , 8075020. ,    1099.5,     136. ],\n",
       "       [   2005. , 8091705.5,    1138. ,     141. ],\n",
       "       [   2006. , 8108391. ,    1069. ,     132. ],\n",
       "       [   2007. , 8125076.5,    1114. ,     137. ],\n",
       "       [   2008. , 8141762. ,    1098. ,     135. ],\n",
       "       [   2009. , 8158447.5,    1007.5,     123. ],\n",
       "       [   2010. , 8175133. ,    1039. ,     127. ],\n",
       "       [   2011. , 8272963. ,    1021. ,     123. ],\n",
       "       [   2012. , 8348032. ,    1009.1,     121. ],\n",
       "       [   2013. , 8398739. ,    1006.1,     120. ],\n",
       "       [   2014. , 8437387. ,     996. ,     118. ],\n",
       "       [   2015. , 8468181. ,    1009. ,     119. ],\n",
       "       [   2016. , 8475976. ,    1002. ,     118. ],\n",
       "       [   2017. , 8438271. ,     990.2,     117. ],\n",
       "       [   2018. , 8398748. ,    1007.5,     120. ]])"
      ]
     },
     "execution_count": 144,
     "metadata": {},
     "output_type": "execute_result"
    }
   ],
   "source": [
    "Water_data"
   ]
  },
  {
   "cell_type": "markdown",
   "metadata": {},
   "source": [
    "#### Check to see which type of data is in numpy array"
   ]
  },
  {
   "cell_type": "code",
   "execution_count": 145,
   "metadata": {},
   "outputs": [
    {
     "name": "stdout",
     "output_type": "stream",
     "text": [
      "The type of data is float64\n"
     ]
    }
   ],
   "source": [
    "print (\"The type of data is \" + str (Water_data.dtype))"
   ]
  },
  {
   "cell_type": "markdown",
   "metadata": {},
   "source": [
    "#### In Water_data, within the second column that gives the value of NYC Water Consumption daily: Looking to see what is the maximum consumption value"
   ]
  },
  {
   "cell_type": "code",
   "execution_count": 146,
   "metadata": {},
   "outputs": [
    {
     "data": {
      "text/plain": [
       "1512.0"
      ]
     },
     "execution_count": 146,
     "metadata": {},
     "output_type": "execute_result"
    }
   ],
   "source": [
    "#What is the maximum yearly NYC consumption in millions of gallons per day?\n",
    "Water_data[:,2].max()"
   ]
  },
  {
   "cell_type": "markdown",
   "metadata": {},
   "source": [
    "#### Finding out the total number of years that are in the data"
   ]
  },
  {
   "cell_type": "code",
   "execution_count": 147,
   "metadata": {},
   "outputs": [
    {
     "name": "stdout",
     "output_type": "stream",
     "text": [
      "There are 40 years in the data\n"
     ]
    }
   ],
   "source": [
    "#How many years are in data\n",
    "years = np.unique(Water_data[:,0]).shape\n",
    "print('There are ' + str(years[0]) + ' years in the data')"
   ]
  },
  {
   "cell_type": "markdown",
   "metadata": {},
   "source": [
    "#### In third column, calculating the mean value and standard deviation per capita daily water consumption"
   ]
  },
  {
   "cell_type": "code",
   "execution_count": 148,
   "metadata": {},
   "outputs": [],
   "source": [
    "#What is the means and standard deviation of the per capita daily water comsumption?\n",
    "data_mean = Water_data[:,3].mean()\n",
    "data_sd = Water_data[:,3].std()"
   ]
  },
  {
   "cell_type": "code",
   "execution_count": 149,
   "metadata": {},
   "outputs": [
    {
     "name": "stdout",
     "output_type": "stream",
     "text": [
      "The standard deviation is 31.58709190476388in the data\n",
      "The mean is 159.425 in the data\n"
     ]
    }
   ],
   "source": [
    "print('The standard deviation is ' + str(data_sd)+ 'in the data')\n",
    "print('The mean is ' +str(data_mean)+ ' in the data')"
   ]
  },
  {
   "cell_type": "markdown",
   "metadata": {},
   "source": [
    "#### Column 1 gives the population by each year, looking for how population changed by each year"
   ]
  },
  {
   "cell_type": "code",
   "execution_count": 150,
   "metadata": {},
   "outputs": [
    {
     "data": {
      "text/plain": [
       "array([-30461. ,  17602. ,  19864. ,  72119. ,  53290. ,  39540. ,\n",
       "        45192. ,  23230. ,  11243. ,  -9544. ,  -8525. ,  38851. ,\n",
       "        54443. ,  77222. ,  64292. ,  62582. ,  64772. ,  75631. ,\n",
       "        84816. ,  89401. ,  60618. ,  16685.5,  16685.5,  16685.5,\n",
       "        16685.5,  16685.5,  16685.5,  16685.5,  16685.5,  16685.5,\n",
       "        16685.5,  97830. ,  75069. ,  50707. ,  38648. ,  30794. ,\n",
       "         7795. , -37705. , -39523. ])"
      ]
     },
     "execution_count": 150,
     "metadata": {},
     "output_type": "execute_result"
    }
   ],
   "source": [
    "pop_diff = np.diff(Water_data[:,1])\n",
    "pop_diff"
   ]
  },
  {
   "cell_type": "markdown",
   "metadata": {},
   "source": [
    "#### Check to see, what Python type is the variable \"pop_diff\""
   ]
  },
  {
   "cell_type": "code",
   "execution_count": 151,
   "metadata": {},
   "outputs": [
    {
     "data": {
      "text/plain": [
       "numpy.ndarray"
      ]
     },
     "execution_count": 151,
     "metadata": {},
     "output_type": "execute_result"
    }
   ],
   "source": [
    "type(pop_diff)"
   ]
  },
  {
   "cell_type": "markdown",
   "metadata": {},
   "source": [
    "#### Check to see which numpy datatype is \"pop_diff\""
   ]
  },
  {
   "cell_type": "code",
   "execution_count": 152,
   "metadata": {},
   "outputs": [
    {
     "data": {
      "text/plain": [
       "dtype('float64')"
      ]
     },
     "execution_count": 152,
     "metadata": {},
     "output_type": "execute_result"
    }
   ],
   "source": [
    "pop_diff.dtype"
   ]
  },
  {
   "cell_type": "markdown",
   "metadata": {},
   "source": [
    "#### When we check again to see how many elements are in \"pop_diff\" we get the value of 39. But data contains total of  40 years. This is due to the fact that when we try to find out the \"pop_diff\" we are subtracting one value from the other and as it substracts down the list it only counts total of 39 substraction. "
   ]
  },
  {
   "cell_type": "code",
   "execution_count": 153,
   "metadata": {},
   "outputs": [
    {
     "name": "stdout",
     "output_type": "stream",
     "text": [
      "Total elements are 39\n"
     ]
    }
   ],
   "source": [
    "#Check to see total number of elements and why it it different?\n",
    "print(\"Total elements are \" +str(len(pop_diff)))"
   ]
  },
  {
   "cell_type": "markdown",
   "metadata": {},
   "source": [
    "#### Multiply number of years by 365.25, and convert that to the nearest whole integer"
   ]
  },
  {
   "cell_type": "code",
   "execution_count": 154,
   "metadata": {},
   "outputs": [
    {
     "data": {
      "text/plain": [
       "14610"
      ]
     },
     "execution_count": 154,
     "metadata": {},
     "output_type": "execute_result"
    }
   ],
   "source": [
    "years,_ = np.shape(Water_data)\n",
    "Stimulation_per_capita = round(years*365.25)\n",
    "Stimulation_per_capita"
   ]
  },
  {
   "cell_type": "markdown",
   "metadata": {},
   "source": [
    "#### Creating an array to give us the values for each mean, standard deviation and number of values"
   ]
  },
  {
   "cell_type": "code",
   "execution_count": 155,
   "metadata": {},
   "outputs": [
    {
     "data": {
      "text/plain": [
       "array([192.037, 119.079, 134.041, ..., 125.212, 122.212, 126.653])"
      ]
     },
     "execution_count": 155,
     "metadata": {},
     "output_type": "execute_result"
    }
   ],
   "source": [
    "stimulated_daily_use_array = np.random.normal(data_mean,data_sd,Stimulation_per_capita)\n",
    "stimulated_daily_use_array"
   ]
  },
  {
   "cell_type": "markdown",
   "metadata": {},
   "source": [
    "#### Finding out what is the data type for our newly created variable"
   ]
  },
  {
   "cell_type": "code",
   "execution_count": 156,
   "metadata": {},
   "outputs": [
    {
     "data": {
      "text/plain": [
       "numpy.ndarray"
      ]
     },
     "execution_count": 156,
     "metadata": {},
     "output_type": "execute_result"
    }
   ],
   "source": [
    "type(stimulated_daily_use_array)"
   ]
  },
  {
   "cell_type": "markdown",
   "metadata": {},
   "source": [
    "#### Converting our newly created array to a list"
   ]
  },
  {
   "cell_type": "code",
   "execution_count": 157,
   "metadata": {},
   "outputs": [],
   "source": [
    "stimulated_daily_use_list = list(stimulated_daily_use_array)"
   ]
  },
  {
   "cell_type": "code",
   "execution_count": 158,
   "metadata": {},
   "outputs": [
    {
     "data": {
      "text/plain": [
       "list"
      ]
     },
     "execution_count": 158,
     "metadata": {},
     "output_type": "execute_result"
    }
   ],
   "source": [
    "type(stimulated_dailt_use_list)"
   ]
  },
  {
   "cell_type": "markdown",
   "metadata": {},
   "source": [
    "#### In this final code block, we are verifying that the vectorized operation is indeed the fastest compared to a loop and compehension"
   ]
  },
  {
   "cell_type": "code",
   "execution_count": 159,
   "metadata": {},
   "outputs": [
    {
     "name": "stdout",
     "output_type": "stream",
     "text": [
      "Time for loop: 2.5835258679871913\n",
      "Time for list comprehension: 1.3016589839971857\n",
      "Time for numpy vectorized operation: 0.015665890998207033\n"
     ]
    }
   ],
   "source": [
    "from timeit import timeit\n",
    "import math\n",
    "\n",
    "def sqrt_1():\n",
    "    # This one uses a loop.  Slow!\n",
    "    sqrt_1 = []\n",
    "    for i in range(0, len(stimulated_daily_use_list)-1): \n",
    "        sqrt_1.append(math.sqrt(stimulated_daily_use_list[i]))\n",
    "    return(sqrt_1)\n",
    "\n",
    "def sqrt_2():\n",
    "    # This one uses list comprehension. Better!\n",
    "    return([math.sqrt(x) for x in stimulated_daily_use_list])\n",
    "\n",
    "def sqrt_3():\n",
    "    # This one uses numpy.  Best!\n",
    "    return(np.sqrt(stimulated_daily_use_array))\n",
    "\n",
    "print(\"Time for loop: \" + str(timeit(sqrt_1, number = 1000)))\n",
    "print(\"Time for list comprehension: \" + str(timeit(sqrt_2, number = 1000)))\n",
    "print(\"Time for numpy vectorized operation: \" + str(timeit(sqrt_3, number = 1000)))"
   ]
  },
  {
   "cell_type": "code",
   "execution_count": null,
   "metadata": {},
   "outputs": [],
   "source": []
  }
 ],
 "metadata": {
  "kernelspec": {
   "display_name": "Python 3",
   "language": "python",
   "name": "python3"
  },
  "language_info": {
   "codemirror_mode": {
    "name": "ipython",
    "version": 3
   },
   "file_extension": ".py",
   "mimetype": "text/x-python",
   "name": "python",
   "nbconvert_exporter": "python",
   "pygments_lexer": "ipython3",
   "version": "3.6.5"
  }
 },
 "nbformat": 4,
 "nbformat_minor": 2
}
