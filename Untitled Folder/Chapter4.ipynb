{
 "cells": [
  {
   "cell_type": "code",
   "execution_count": 1,
   "metadata": {},
   "outputs": [],
   "source": [
    "import numpy as np\n",
    "bias_data = np.genfromtxt(\"https://raw.githubusercontent.com/yeshiva-analytics-programming/datasets/master/nyc_311_bias.csv\",\n",
    "                          delimiter = \",\",\n",
    "                          skip_header = 1)"
   ]
  },
  {
   "cell_type": "code",
   "execution_count": 2,
   "metadata": {},
   "outputs": [
    {
     "data": {
      "text/plain": [
       "array([[3.60050001e+10, 1.10910000e+04, 1.10910000e+04, ...,\n",
       "        3.77900000e+03, 1.72400000e+03, 3.08000000e+01],\n",
       "       [3.60050002e+10, 4.33400000e+03, 4.33400000e+03, ...,\n",
       "        2.99300000e+03, 1.33200000e+03, 3.28000000e+01],\n",
       "       [3.60050004e+10, 5.50300000e+03, 5.50300000e+03, ...,\n",
       "        3.75500000e+03, 1.49700000e+03, 3.46000000e+01],\n",
       "       ...,\n",
       "       [3.60850319e+10, 4.84800000e+03, 4.84800000e+03, ...,\n",
       "        1.49800000e+03, 9.97000000e+02, 2.67000000e+01],\n",
       "       [3.60850323e+10, 1.25000000e+03, 1.25000000e+03, ...,\n",
       "        4.42000000e+02, 4.85000000e+02, 3.39000000e+01],\n",
       "       [3.60859901e+10, 0.00000000e+00, 0.00000000e+00, ...,\n",
       "        0.00000000e+00, 0.00000000e+00, 0.00000000e+00]])"
      ]
     },
     "execution_count": 2,
     "metadata": {},
     "output_type": "execute_result"
    }
   ],
   "source": [
    "bias_data"
   ]
  },
  {
   "cell_type": "code",
   "execution_count": 3,
   "metadata": {},
   "outputs": [
    {
     "data": {
      "text/plain": [
       "array([ True,  True,  True, ...,  True,  True,  True])"
      ]
     },
     "execution_count": 3,
     "metadata": {},
     "output_type": "execute_result"
    }
   ],
   "source": [
    "bias_data[:,1] == bias_data[:,2]"
   ]
  },
  {
   "cell_type": "code",
   "execution_count": 4,
   "metadata": {},
   "outputs": [
    {
     "data": {
      "text/plain": [
       "0"
      ]
     },
     "execution_count": 4,
     "metadata": {},
     "output_type": "execute_result"
    }
   ],
   "source": [
    "sum(bias_data[:,1] != bias_data[:,2])"
   ]
  },
  {
   "cell_type": "code",
   "execution_count": 5,
   "metadata": {},
   "outputs": [
    {
     "name": "stderr",
     "output_type": "stream",
     "text": [
      "/Users/harisx91/anaconda3/lib/python3.6/site-packages/ipykernel_launcher.py:1: RuntimeWarning: invalid value encountered in true_divide\n",
      "  \"\"\"Entry point for launching an IPython kernel.\n"
     ]
    }
   ],
   "source": [
    "pct_white = np.divide(bias_data[:,5],bias_data[:,1])*100"
   ]
  },
  {
   "cell_type": "code",
   "execution_count": 6,
   "metadata": {},
   "outputs": [
    {
     "data": {
      "text/plain": [
       "array([11091.,  4334.,  5503., ...,  4848.,  1250.,     0.])"
      ]
     },
     "execution_count": 6,
     "metadata": {},
     "output_type": "execute_result"
    }
   ],
   "source": [
    "bias_data[:,1]"
   ]
  },
  {
   "cell_type": "code",
   "execution_count": 7,
   "metadata": {},
   "outputs": [
    {
     "data": {
      "text/plain": [
       "0.0"
      ]
     },
     "execution_count": 7,
     "metadata": {},
     "output_type": "execute_result"
    }
   ],
   "source": [
    "bias_data[:,1].min()"
   ]
  },
  {
   "cell_type": "code",
   "execution_count": 8,
   "metadata": {},
   "outputs": [
    {
     "data": {
      "text/plain": [
       "array([15.54413488, 30.73373327, 27.20334363, ..., 20.56518152,\n",
       "       38.8       ,         nan])"
      ]
     },
     "execution_count": 8,
     "metadata": {},
     "output_type": "execute_result"
    }
   ],
   "source": [
    "pct_white "
   ]
  },
  {
   "cell_type": "code",
   "execution_count": 9,
   "metadata": {},
   "outputs": [],
   "source": [
    "bias_data = np.column_stack((bias_data, pct_white))"
   ]
  },
  {
   "cell_type": "code",
   "execution_count": 10,
   "metadata": {},
   "outputs": [
    {
     "data": {
      "text/plain": [
       "array([[3.60050001e+10, 1.10910000e+04, 1.10910000e+04, ...,\n",
       "        1.72400000e+03, 3.08000000e+01, 1.55441349e+01],\n",
       "       [3.60050002e+10, 4.33400000e+03, 4.33400000e+03, ...,\n",
       "        1.33200000e+03, 3.28000000e+01, 3.07337333e+01],\n",
       "       [3.60050004e+10, 5.50300000e+03, 5.50300000e+03, ...,\n",
       "        1.49700000e+03, 3.46000000e+01, 2.72033436e+01],\n",
       "       ...,\n",
       "       [3.60850319e+10, 4.84800000e+03, 4.84800000e+03, ...,\n",
       "        9.97000000e+02, 2.67000000e+01, 2.05651815e+01],\n",
       "       [3.60850323e+10, 1.25000000e+03, 1.25000000e+03, ...,\n",
       "        4.85000000e+02, 3.39000000e+01, 3.88000000e+01],\n",
       "       [3.60859901e+10, 0.00000000e+00, 0.00000000e+00, ...,\n",
       "        0.00000000e+00, 0.00000000e+00,            nan]])"
      ]
     },
     "execution_count": 10,
     "metadata": {},
     "output_type": "execute_result"
    }
   ],
   "source": [
    "bias_data"
   ]
  },
  {
   "cell_type": "code",
   "execution_count": null,
   "metadata": {},
   "outputs": [],
   "source": []
  }
 ],
 "metadata": {
  "kernelspec": {
   "display_name": "Python 3",
   "language": "python",
   "name": "python3"
  },
  "language_info": {
   "codemirror_mode": {
    "name": "ipython",
    "version": 3
   },
   "file_extension": ".py",
   "mimetype": "text/x-python",
   "name": "python",
   "nbconvert_exporter": "python",
   "pygments_lexer": "ipython3",
   "version": "3.6.5"
  }
 },
 "nbformat": 4,
 "nbformat_minor": 2
}
