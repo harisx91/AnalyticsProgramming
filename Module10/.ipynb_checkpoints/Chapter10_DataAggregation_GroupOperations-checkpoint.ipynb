{
 "cells": [
  {
   "cell_type": "code",
   "execution_count": 1,
   "metadata": {},
   "outputs": [],
   "source": [
    "import numpy as np\n",
    "import pandas as pd"
   ]
  },
  {
   "cell_type": "code",
   "execution_count": 2,
   "metadata": {},
   "outputs": [],
   "source": [
    "df = pd.DataFrame({'key1':['a','a','b','b','a'],\n",
    "                  'key2': ['one','two','one','two','one'],\n",
    "                  'data1': np.random.randn(5),\n",
    "                  'data2': np.random.randn(5)})"
   ]
  },
  {
   "cell_type": "code",
   "execution_count": 3,
   "metadata": {},
   "outputs": [
    {
     "data": {
      "text/html": [
       "<div>\n",
       "<style scoped>\n",
       "    .dataframe tbody tr th:only-of-type {\n",
       "        vertical-align: middle;\n",
       "    }\n",
       "\n",
       "    .dataframe tbody tr th {\n",
       "        vertical-align: top;\n",
       "    }\n",
       "\n",
       "    .dataframe thead th {\n",
       "        text-align: right;\n",
       "    }\n",
       "</style>\n",
       "<table border=\"1\" class=\"dataframe\">\n",
       "  <thead>\n",
       "    <tr style=\"text-align: right;\">\n",
       "      <th></th>\n",
       "      <th>key1</th>\n",
       "      <th>key2</th>\n",
       "      <th>data1</th>\n",
       "      <th>data2</th>\n",
       "    </tr>\n",
       "  </thead>\n",
       "  <tbody>\n",
       "    <tr>\n",
       "      <th>0</th>\n",
       "      <td>a</td>\n",
       "      <td>one</td>\n",
       "      <td>2.362735</td>\n",
       "      <td>1.241227</td>\n",
       "    </tr>\n",
       "    <tr>\n",
       "      <th>1</th>\n",
       "      <td>a</td>\n",
       "      <td>two</td>\n",
       "      <td>-0.032160</td>\n",
       "      <td>0.994676</td>\n",
       "    </tr>\n",
       "    <tr>\n",
       "      <th>2</th>\n",
       "      <td>b</td>\n",
       "      <td>one</td>\n",
       "      <td>-0.693603</td>\n",
       "      <td>0.403165</td>\n",
       "    </tr>\n",
       "    <tr>\n",
       "      <th>3</th>\n",
       "      <td>b</td>\n",
       "      <td>two</td>\n",
       "      <td>-0.742026</td>\n",
       "      <td>0.489652</td>\n",
       "    </tr>\n",
       "    <tr>\n",
       "      <th>4</th>\n",
       "      <td>a</td>\n",
       "      <td>one</td>\n",
       "      <td>-1.019083</td>\n",
       "      <td>-1.922361</td>\n",
       "    </tr>\n",
       "  </tbody>\n",
       "</table>\n",
       "</div>"
      ],
      "text/plain": [
       "  key1 key2     data1     data2\n",
       "0    a  one  2.362735  1.241227\n",
       "1    a  two -0.032160  0.994676\n",
       "2    b  one -0.693603  0.403165\n",
       "3    b  two -0.742026  0.489652\n",
       "4    a  one -1.019083 -1.922361"
      ]
     },
     "execution_count": 3,
     "metadata": {},
     "output_type": "execute_result"
    }
   ],
   "source": [
    "df"
   ]
  },
  {
   "cell_type": "code",
   "execution_count": 4,
   "metadata": {},
   "outputs": [
    {
     "data": {
      "text/plain": [
       "key1  key2\n",
       "a     one     2\n",
       "      two     1\n",
       "b     one     1\n",
       "      two     1\n",
       "dtype: int64"
      ]
     },
     "execution_count": 4,
     "metadata": {},
     "output_type": "execute_result"
    }
   ],
   "source": [
    "df.groupby(['key1','key2']).size()"
   ]
  },
  {
   "cell_type": "code",
   "execution_count": 5,
   "metadata": {},
   "outputs": [
    {
     "data": {
      "text/html": [
       "<div>\n",
       "<style scoped>\n",
       "    .dataframe tbody tr th:only-of-type {\n",
       "        vertical-align: middle;\n",
       "    }\n",
       "\n",
       "    .dataframe tbody tr th {\n",
       "        vertical-align: top;\n",
       "    }\n",
       "\n",
       "    .dataframe thead th {\n",
       "        text-align: right;\n",
       "    }\n",
       "</style>\n",
       "<table border=\"1\" class=\"dataframe\">\n",
       "  <thead>\n",
       "    <tr style=\"text-align: right;\">\n",
       "      <th></th>\n",
       "      <th>camis</th>\n",
       "      <th>dba</th>\n",
       "      <th>boro</th>\n",
       "      <th>building</th>\n",
       "      <th>street</th>\n",
       "      <th>zipcode</th>\n",
       "      <th>phone</th>\n",
       "      <th>cuisine_description</th>\n",
       "      <th>inspection_date</th>\n",
       "      <th>action</th>\n",
       "      <th>...</th>\n",
       "      <th>record_date</th>\n",
       "      <th>inspection_type</th>\n",
       "      <th>latitude</th>\n",
       "      <th>longitude</th>\n",
       "      <th>community_board</th>\n",
       "      <th>council_district</th>\n",
       "      <th>census_tract</th>\n",
       "      <th>bin</th>\n",
       "      <th>bbl</th>\n",
       "      <th>nta</th>\n",
       "    </tr>\n",
       "  </thead>\n",
       "  <tbody>\n",
       "    <tr>\n",
       "      <th>0</th>\n",
       "      <td>50054568</td>\n",
       "      <td>BURGER KING</td>\n",
       "      <td>Queens</td>\n",
       "      <td>15929</td>\n",
       "      <td>JAMAICA AVE</td>\n",
       "      <td>11432.0</td>\n",
       "      <td>9089270130</td>\n",
       "      <td>American</td>\n",
       "      <td>2018-07-02T00:00:00.000</td>\n",
       "      <td>Violations were cited in the following area(s).</td>\n",
       "      <td>...</td>\n",
       "      <td>2019-11-29T06:00:50.000</td>\n",
       "      <td>Cycle Inspection / Re-inspection</td>\n",
       "      <td>40.703485</td>\n",
       "      <td>-73.799838</td>\n",
       "      <td>412.0</td>\n",
       "      <td>24.0</td>\n",
       "      <td>44601.0</td>\n",
       "      <td>4208839.0</td>\n",
       "      <td>4097560056</td>\n",
       "      <td>QN61</td>\n",
       "    </tr>\n",
       "    <tr>\n",
       "      <th>1</th>\n",
       "      <td>50011694</td>\n",
       "      <td>SWEET CHICK</td>\n",
       "      <td>Manhattan</td>\n",
       "      <td>178</td>\n",
       "      <td>LUDLOW ST</td>\n",
       "      <td>10002.0</td>\n",
       "      <td>6466570233</td>\n",
       "      <td>American</td>\n",
       "      <td>2018-12-21T00:00:00.000</td>\n",
       "      <td>Establishment re-opened by DOHMH</td>\n",
       "      <td>...</td>\n",
       "      <td>2019-11-29T06:00:50.000</td>\n",
       "      <td>Cycle Inspection / Reopening Inspection</td>\n",
       "      <td>40.721760</td>\n",
       "      <td>-73.987492</td>\n",
       "      <td>103.0</td>\n",
       "      <td>1.0</td>\n",
       "      <td>3001.0</td>\n",
       "      <td>1084893.0</td>\n",
       "      <td>1004120046</td>\n",
       "      <td>MN27</td>\n",
       "    </tr>\n",
       "    <tr>\n",
       "      <th>2</th>\n",
       "      <td>41657280</td>\n",
       "      <td>AENOS PIZZA</td>\n",
       "      <td>Bronx</td>\n",
       "      <td>1693</td>\n",
       "      <td>BOSTON ROAD</td>\n",
       "      <td>10460.0</td>\n",
       "      <td>7186177397</td>\n",
       "      <td>Pizza</td>\n",
       "      <td>2018-02-05T00:00:00.000</td>\n",
       "      <td>Violations were cited in the following area(s).</td>\n",
       "      <td>...</td>\n",
       "      <td>2019-11-29T06:00:50.000</td>\n",
       "      <td>Cycle Inspection / Re-inspection</td>\n",
       "      <td>40.836564</td>\n",
       "      <td>-73.889122</td>\n",
       "      <td>203.0</td>\n",
       "      <td>17.0</td>\n",
       "      <td>15500.0</td>\n",
       "      <td>2009883.0</td>\n",
       "      <td>2029400065</td>\n",
       "      <td>BX75</td>\n",
       "    </tr>\n",
       "    <tr>\n",
       "      <th>3</th>\n",
       "      <td>50044928</td>\n",
       "      <td>KELLY D JAMAICAN AND AMERICAN RESTAURANT</td>\n",
       "      <td>Queens</td>\n",
       "      <td>22411</td>\n",
       "      <td>MERRICK BLVD</td>\n",
       "      <td>11413.0</td>\n",
       "      <td>7189490390</td>\n",
       "      <td>Caribbean</td>\n",
       "      <td>2018-06-25T00:00:00.000</td>\n",
       "      <td>Violations were cited in the following area(s).</td>\n",
       "      <td>...</td>\n",
       "      <td>2019-11-29T06:00:50.000</td>\n",
       "      <td>Cycle Inspection / Re-inspection</td>\n",
       "      <td>40.677820</td>\n",
       "      <td>-73.745422</td>\n",
       "      <td>413.0</td>\n",
       "      <td>31.0</td>\n",
       "      <td>63000.0</td>\n",
       "      <td>4279330.0</td>\n",
       "      <td>4129630340</td>\n",
       "      <td>QN66</td>\n",
       "    </tr>\n",
       "    <tr>\n",
       "      <th>4</th>\n",
       "      <td>41717968</td>\n",
       "      <td>PADDY G'S</td>\n",
       "      <td>Queens</td>\n",
       "      <td>8634</td>\n",
       "      <td>BROADWAY</td>\n",
       "      <td>11373.0</td>\n",
       "      <td>7186727575</td>\n",
       "      <td>American</td>\n",
       "      <td>2018-05-15T00:00:00.000</td>\n",
       "      <td>Violations were cited in the following area(s).</td>\n",
       "      <td>...</td>\n",
       "      <td>2019-11-29T06:00:50.000</td>\n",
       "      <td>Cycle Inspection / Initial Inspection</td>\n",
       "      <td>40.737582</td>\n",
       "      <td>-73.877250</td>\n",
       "      <td>404.0</td>\n",
       "      <td>25.0</td>\n",
       "      <td>47300.0</td>\n",
       "      <td>4038770.0</td>\n",
       "      <td>4015490025</td>\n",
       "      <td>QN29</td>\n",
       "    </tr>\n",
       "  </tbody>\n",
       "</table>\n",
       "<p>5 rows × 26 columns</p>\n",
       "</div>"
      ],
      "text/plain": [
       "      camis                                       dba       boro building  \\\n",
       "0  50054568                               BURGER KING     Queens    15929   \n",
       "1  50011694                               SWEET CHICK  Manhattan      178   \n",
       "2  41657280                               AENOS PIZZA      Bronx     1693   \n",
       "3  50044928  KELLY D JAMAICAN AND AMERICAN RESTAURANT     Queens    22411   \n",
       "4  41717968                                 PADDY G'S     Queens     8634   \n",
       "\n",
       "         street  zipcode       phone cuisine_description  \\\n",
       "0   JAMAICA AVE  11432.0  9089270130            American   \n",
       "1     LUDLOW ST  10002.0  6466570233            American   \n",
       "2   BOSTON ROAD  10460.0  7186177397               Pizza   \n",
       "3  MERRICK BLVD  11413.0  7189490390           Caribbean   \n",
       "4      BROADWAY  11373.0  7186727575            American   \n",
       "\n",
       "           inspection_date                                           action  \\\n",
       "0  2018-07-02T00:00:00.000  Violations were cited in the following area(s).   \n",
       "1  2018-12-21T00:00:00.000                 Establishment re-opened by DOHMH   \n",
       "2  2018-02-05T00:00:00.000  Violations were cited in the following area(s).   \n",
       "3  2018-06-25T00:00:00.000  Violations were cited in the following area(s).   \n",
       "4  2018-05-15T00:00:00.000  Violations were cited in the following area(s).   \n",
       "\n",
       "   ...               record_date                          inspection_type  \\\n",
       "0  ...   2019-11-29T06:00:50.000         Cycle Inspection / Re-inspection   \n",
       "1  ...   2019-11-29T06:00:50.000  Cycle Inspection / Reopening Inspection   \n",
       "2  ...   2019-11-29T06:00:50.000         Cycle Inspection / Re-inspection   \n",
       "3  ...   2019-11-29T06:00:50.000         Cycle Inspection / Re-inspection   \n",
       "4  ...   2019-11-29T06:00:50.000    Cycle Inspection / Initial Inspection   \n",
       "\n",
       "    latitude  longitude community_board council_district census_tract  \\\n",
       "0  40.703485 -73.799838           412.0             24.0      44601.0   \n",
       "1  40.721760 -73.987492           103.0              1.0       3001.0   \n",
       "2  40.836564 -73.889122           203.0             17.0      15500.0   \n",
       "3  40.677820 -73.745422           413.0             31.0      63000.0   \n",
       "4  40.737582 -73.877250           404.0             25.0      47300.0   \n",
       "\n",
       "         bin         bbl   nta  \n",
       "0  4208839.0  4097560056  QN61  \n",
       "1  1084893.0  1004120046  MN27  \n",
       "2  2009883.0  2029400065  BX75  \n",
       "3  4279330.0  4129630340  QN66  \n",
       "4  4038770.0  4015490025  QN29  \n",
       "\n",
       "[5 rows x 26 columns]"
      ]
     },
     "execution_count": 5,
     "metadata": {},
     "output_type": "execute_result"
    }
   ],
   "source": [
    "import pandas as pd\n",
    "import urllib.parse\n",
    "\n",
    "limit = urllib.parse.quote(\"date_extract_y(grade_date) = 2018\")\n",
    "food_scores = pd.read_csv(\"https://data.cityofnewyork.us/resource/43nn-pn8j.csv?$where=\" + limit)\n",
    "\n",
    "food_scores.head()"
   ]
  },
  {
   "cell_type": "code",
   "execution_count": 13,
   "metadata": {},
   "outputs": [
    {
     "data": {
      "text/plain": [
       "count         1000\n",
       "unique          64\n",
       "top       American\n",
       "freq           221\n",
       "Name: cuisine_description, dtype: object"
      ]
     },
     "execution_count": 13,
     "metadata": {},
     "output_type": "execute_result"
    }
   ],
   "source": [
    "food_scores['cuisine_description'].describe()"
   ]
  },
  {
   "cell_type": "code",
   "execution_count": 28,
   "metadata": {},
   "outputs": [],
   "source": [
    "grouped = food_scores['score'].groupby(food_scores['cuisine_description'])"
   ]
  },
  {
   "cell_type": "code",
   "execution_count": 29,
   "metadata": {},
   "outputs": [
    {
     "data": {
      "text/plain": [
       "<pandas.core.groupby.groupby.SeriesGroupBy object at 0x11270d4e0>"
      ]
     },
     "execution_count": 29,
     "metadata": {},
     "output_type": "execute_result"
    }
   ],
   "source": [
    "grouped"
   ]
  },
  {
   "cell_type": "code",
   "execution_count": 30,
   "metadata": {},
   "outputs": [
    {
     "data": {
      "text/plain": [
       "cuisine_description\n",
       "Afghan                                                              12.0\n",
       "African                                                             12.5\n",
       "American                                                            12.0\n",
       "Armenian                                                            13.5\n",
       "Asian                                                               11.0\n",
       "Australian                                                           9.0\n",
       "Bagels/Pretzels                                                     13.0\n",
       "Bakery                                                              11.0\n",
       "Bangladeshi                                                         11.0\n",
       "Barbecue                                                             5.0\n",
       "Bottled beverages, including water, sodas, juices, etc.              9.5\n",
       "Brazilian                                                            9.0\n",
       "Café/Coffee/Tea                                                     10.0\n",
       "Caribbean                                                           12.0\n",
       "Chicken                                                             11.0\n",
       "Chinese                                                             12.0\n",
       "Chinese/Cuban                                                       20.0\n",
       "Chinese/Japanese                                                    14.0\n",
       "Delicatessen                                                        10.0\n",
       "Donuts                                                               9.0\n",
       "Eastern European                                                    12.5\n",
       "Egyptian                                                            10.0\n",
       "Ethiopian                                                           12.0\n",
       "Filipino                                                            10.0\n",
       "French                                                              11.0\n",
       "German                                                               9.0\n",
       "Greek                                                               12.5\n",
       "Hamburgers                                                          11.5\n",
       "Hawaiian                                                            13.0\n",
       "Ice Cream, Gelato, Yogurt, Ices                                      8.5\n",
       "                                                                    ... \n",
       "Jewish/Kosher                                                       11.0\n",
       "Juice, Smoothies, Fruit Salads                                      10.0\n",
       "Korean                                                              12.0\n",
       "Latin (Cuban, Dominican, Puerto Rican, South & Central American)    12.0\n",
       "Mediterranean                                                       12.5\n",
       "Mexican                                                             12.0\n",
       "Middle Eastern                                                      12.0\n",
       "Other                                                               10.5\n",
       "Pakistani                                                           12.5\n",
       "Peruvian                                                            12.0\n",
       "Pizza                                                               12.0\n",
       "Pizza/Italian                                                       12.0\n",
       "Polish                                                              11.0\n",
       "Portuguese                                                          11.0\n",
       "Russian                                                              5.0\n",
       "Salads                                                              13.0\n",
       "Sandwiches                                                           9.0\n",
       "Sandwiches/Salads/Mixed Buffet                                      10.0\n",
       "Scandinavian                                                         5.0\n",
       "Seafood                                                             10.5\n",
       "Soul Food                                                            9.5\n",
       "Soups & Sandwiches                                                  13.0\n",
       "Southwestern                                                        14.0\n",
       "Spanish                                                             12.0\n",
       "Steak                                                               11.0\n",
       "Tex-Mex                                                             12.0\n",
       "Thai                                                                12.0\n",
       "Turkish                                                             12.0\n",
       "Vegetarian                                                           7.0\n",
       "Vietnamese/Cambodian/Malaysia                                        9.0\n",
       "Name: score, Length: 64, dtype: float64"
      ]
     },
     "execution_count": 30,
     "metadata": {},
     "output_type": "execute_result"
    }
   ],
   "source": [
    "grouped.median()"
   ]
  },
  {
   "cell_type": "code",
   "execution_count": 33,
   "metadata": {},
   "outputs": [],
   "source": [
    "grouped_1 = food_scores['score'].groupby(food_scores['boro'])"
   ]
  },
  {
   "cell_type": "code",
   "execution_count": 34,
   "metadata": {},
   "outputs": [
    {
     "data": {
      "text/plain": [
       "<pandas.core.groupby.groupby.SeriesGroupBy object at 0x11270d438>"
      ]
     },
     "execution_count": 34,
     "metadata": {},
     "output_type": "execute_result"
    }
   ],
   "source": [
    "grouped_1"
   ]
  },
  {
   "cell_type": "code",
   "execution_count": 35,
   "metadata": {},
   "outputs": [
    {
     "data": {
      "text/plain": [
       "boro\n",
       "Bronx            12.947368\n",
       "Brooklyn         13.334677\n",
       "Manhattan        12.222222\n",
       "Queens           13.037975\n",
       "Staten Island    13.272727\n",
       "Name: score, dtype: float64"
      ]
     },
     "execution_count": 35,
     "metadata": {},
     "output_type": "execute_result"
    }
   ],
   "source": [
    "grouped_1.mean()"
   ]
  },
  {
   "cell_type": "code",
   "execution_count": 36,
   "metadata": {},
   "outputs": [],
   "source": [
    "grouped_2 = food_scores['grade'].groupby(food_scores['boro'])"
   ]
  },
  {
   "cell_type": "code",
   "execution_count": 39,
   "metadata": {},
   "outputs": [
    {
     "data": {
      "text/plain": [
       "boro\n",
       "Bronx             95\n",
       "Brooklyn         248\n",
       "Manhattan        387\n",
       "Queens           237\n",
       "Staten Island     33\n",
       "Name: grade, dtype: int64"
      ]
     },
     "execution_count": 39,
     "metadata": {},
     "output_type": "execute_result"
    }
   ],
   "source": [
    "grouped_2.count()"
   ]
  },
  {
   "cell_type": "code",
   "execution_count": null,
   "metadata": {},
   "outputs": [],
   "source": []
  }
 ],
 "metadata": {
  "kernelspec": {
   "display_name": "Python 3",
   "language": "python",
   "name": "python3"
  },
  "language_info": {
   "codemirror_mode": {
    "name": "ipython",
    "version": 3
   },
   "file_extension": ".py",
   "mimetype": "text/x-python",
   "name": "python",
   "nbconvert_exporter": "python",
   "pygments_lexer": "ipython3",
   "version": "3.6.5"
  }
 },
 "nbformat": 4,
 "nbformat_minor": 2
}
