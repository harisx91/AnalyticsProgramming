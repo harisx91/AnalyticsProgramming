{
 "cells": [
  {
   "cell_type": "code",
   "execution_count": null,
   "metadata": {},
   "outputs": [],
   "source": [
    "## Haris Sumra\n",
    "## Community Health Survery Analysis\n",
    "## 11/03/2019\n",
    "\n",
    "### In this Project:\n",
    "* Usin pandas to ingest and select data for analysis.\n",
    "* Clean up the data; drop any unnecessary columns along with renaming the columns. \n",
    "* Make a slice of the data that keeps just the \"Year\", \"Question\" and \"Prevalence\" columns.\n",
    "* The data is in long format. Make it into a wide format: First, make the question text the column header, and the year the row index. Next, make the year the column header, and the question text the row index.\n",
    "* Data was collected from (https://data.cityofnewyork.us/resource/2r9r-m6j4.csv)"
   ]
  }
 ],
 "metadata": {
  "kernelspec": {
   "display_name": "Python 3",
   "language": "python",
   "name": "python3"
  },
  "language_info": {
   "codemirror_mode": {
    "name": "ipython",
    "version": 3
   },
   "file_extension": ".py",
   "mimetype": "text/x-python",
   "name": "python",
   "nbconvert_exporter": "python",
   "pygments_lexer": "ipython3",
   "version": "3.6.5"
  }
 },
 "nbformat": 4,
 "nbformat_minor": 2
}
